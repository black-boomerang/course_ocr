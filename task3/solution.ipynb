{
 "cells": [
  {
   "cell_type": "markdown",
   "source": [
    "# HRNet\n",
    "\n",
    "Загружаем необходимые библиотеки:"
   ],
   "metadata": {
    "collapsed": false
   }
  },
  {
   "cell_type": "code",
   "execution_count": 3,
   "metadata": {
    "collapsed": true
   },
   "outputs": [],
   "source": [
    "import warnings\n",
    "\n",
    "from train import train\n",
    "from inference import infer\n",
    "\n",
    "warnings.filterwarnings('ignore')"
   ]
  },
  {
   "cell_type": "markdown",
   "source": [
    "Обучаем модель:"
   ],
   "metadata": {
    "collapsed": false
   }
  },
  {
   "cell_type": "code",
   "execution_count": 2,
   "outputs": [
    {
     "name": "stderr",
     "output_type": "stream",
     "text": [
      "2023-04-24 22:56:49,443 - mmseg - INFO - Loaded 8195 images\n",
      "2023-04-24 22:56:49,736 - mmseg - INFO - Loaded 100 images\n",
      "2023-04-24 22:56:49,737 - mmseg - INFO - Start running, host: Aleksei@DESKTOP-6FN7PTO, work_dir: C:\\Users\\Aleksei\\course_ocr\\task3\\workdir\\hrnet_v1\n",
      "2023-04-24 22:56:49,737 - mmseg - INFO - Hooks will be executed in the following order:\n",
      "before_run:\n",
      "(VERY_HIGH   ) PolyLrUpdaterHook                  \n",
      "(NORMAL      ) CheckpointHook                     \n",
      "(LOW         ) EvalHook                           \n",
      "(VERY_LOW    ) TextLoggerHook                     \n",
      " -------------------- \n",
      "before_train_epoch:\n",
      "(VERY_HIGH   ) PolyLrUpdaterHook                  \n",
      "(LOW         ) IterTimerHook                      \n",
      "(LOW         ) EvalHook                           \n",
      "(VERY_LOW    ) TextLoggerHook                     \n",
      " -------------------- \n",
      "before_train_iter:\n",
      "(VERY_HIGH   ) PolyLrUpdaterHook                  \n",
      "(LOW         ) IterTimerHook                      \n",
      "(LOW         ) EvalHook                           \n",
      " -------------------- \n",
      "after_train_iter:\n",
      "(ABOVE_NORMAL) OptimizerHook                      \n",
      "(NORMAL      ) CheckpointHook                     \n",
      "(LOW         ) IterTimerHook                      \n",
      "(LOW         ) EvalHook                           \n",
      "(VERY_LOW    ) TextLoggerHook                     \n",
      " -------------------- \n",
      "after_train_epoch:\n",
      "(NORMAL      ) CheckpointHook                     \n",
      "(LOW         ) EvalHook                           \n",
      "(VERY_LOW    ) TextLoggerHook                     \n",
      " -------------------- \n",
      "before_val_epoch:\n",
      "(LOW         ) IterTimerHook                      \n",
      "(VERY_LOW    ) TextLoggerHook                     \n",
      " -------------------- \n",
      "before_val_iter:\n",
      "(LOW         ) IterTimerHook                      \n",
      " -------------------- \n",
      "after_val_iter:\n",
      "(LOW         ) IterTimerHook                      \n",
      " -------------------- \n",
      "after_val_epoch:\n",
      "(VERY_LOW    ) TextLoggerHook                     \n",
      " -------------------- \n",
      "after_run:\n",
      "(VERY_LOW    ) TextLoggerHook                     \n",
      " -------------------- \n",
      "2023-04-24 22:56:49,738 - mmseg - INFO - workflow: [('train', 1)], max: 1 epochs\n",
      "2023-04-24 22:56:49,739 - mmseg - INFO - Checkpoints will be saved to C:\\Users\\Aleksei\\course_ocr\\task3\\workdir\\hrnet_v1 by HardDiskBackend.\n",
      "2023-04-24 22:58:26,130 - mmseg - INFO - Iter [100/2048]\tlr: 9.568e-03, eta: 0:31:15, time: 0.963, data_time: 0.492, memory: 12250, decode.loss_ce: 0.2185, decode.acc_seg: 90.5433, loss: 0.2185\n",
      "2023-04-24 22:59:56,941 - mmseg - INFO - Iter [200/2048]\tlr: 9.130e-03, eta: 0:28:48, time: 0.908, data_time: 0.472, memory: 12250, decode.loss_ce: 0.1281, decode.acc_seg: 94.8893, loss: 0.1281\n",
      "2023-04-24 23:01:27,602 - mmseg - INFO - Iter [300/2048]\tlr: 8.689e-03, eta: 0:26:58, time: 0.907, data_time: 0.448, memory: 12250, decode.loss_ce: 0.0837, decode.acc_seg: 96.6876, loss: 0.0837\n",
      "2023-04-24 23:02:59,521 - mmseg - INFO - Iter [400/2048]\tlr: 8.246e-03, eta: 0:25:23, time: 0.919, data_time: 0.457, memory: 12250, decode.loss_ce: 0.0681, decode.acc_seg: 97.3277, loss: 0.0681\n",
      "2023-04-24 23:04:32,713 - mmseg - INFO - Iter [500/2048]\tlr: 7.800e-03, eta: 0:23:53, time: 0.932, data_time: 0.469, memory: 12250, decode.loss_ce: 0.0548, decode.acc_seg: 97.7732, loss: 0.0548\n",
      "2023-04-24 23:06:07,638 - mmseg - INFO - Iter [600/2048]\tlr: 7.351e-03, eta: 0:22:26, time: 0.949, data_time: 0.488, memory: 12250, decode.loss_ce: 0.0557, decode.acc_seg: 97.7592, loss: 0.0557\n",
      "2023-04-24 23:07:41,945 - mmseg - INFO - Iter [700/2048]\tlr: 6.899e-03, eta: 0:20:55, time: 0.943, data_time: 0.479, memory: 12250, decode.loss_ce: 0.0531, decode.acc_seg: 97.8187, loss: 0.0531\n",
      "2023-04-24 23:09:15,855 - mmseg - INFO - Iter [800/2048]\tlr: 6.444e-03, eta: 0:19:23, time: 0.939, data_time: 0.480, memory: 12250, decode.loss_ce: 0.0513, decode.acc_seg: 97.9049, loss: 0.0513\n",
      "2023-04-24 23:10:46,202 - mmseg - INFO - Iter [900/2048]\tlr: 5.985e-03, eta: 0:17:46, time: 0.903, data_time: 0.435, memory: 12250, decode.loss_ce: 0.0440, decode.acc_seg: 98.1891, loss: 0.0440\n",
      "2023-04-24 23:12:16,516 - mmseg - INFO - Iter [1000/2048]\tlr: 5.522e-03, eta: 0:16:11, time: 0.903, data_time: 0.452, memory: 12250, decode.loss_ce: 0.0443, decode.acc_seg: 98.2045, loss: 0.0443\n",
      "2023-04-24 23:13:45,916 - mmseg - INFO - Iter [1100/2048]\tlr: 5.054e-03, eta: 0:14:35, time: 0.894, data_time: 0.457, memory: 12250, decode.loss_ce: 0.0456, decode.acc_seg: 98.1367, loss: 0.0456\n",
      "2023-04-24 23:15:16,527 - mmseg - INFO - Iter [1200/2048]\tlr: 4.582e-03, eta: 0:13:02, time: 0.906, data_time: 0.468, memory: 12250, decode.loss_ce: 0.0372, decode.acc_seg: 98.4699, loss: 0.0372\n",
      "2023-04-24 23:16:46,554 - mmseg - INFO - Iter [1300/2048]\tlr: 4.104e-03, eta: 0:11:28, time: 0.900, data_time: 0.458, memory: 12250, decode.loss_ce: 0.0374, decode.acc_seg: 98.4256, loss: 0.0374\n",
      "2023-04-24 23:18:16,218 - mmseg - INFO - Iter [1400/2048]\tlr: 3.619e-03, eta: 0:09:55, time: 0.897, data_time: 0.459, memory: 12250, decode.loss_ce: 0.0338, decode.acc_seg: 98.5780, loss: 0.0338\n",
      "2023-04-24 23:19:45,685 - mmseg - INFO - Iter [1500/2048]\tlr: 3.127e-03, eta: 0:08:22, time: 0.895, data_time: 0.456, memory: 12250, decode.loss_ce: 0.0406, decode.acc_seg: 98.3336, loss: 0.0406\n",
      "2023-04-24 23:21:17,719 - mmseg - INFO - Iter [1600/2048]\tlr: 2.626e-03, eta: 0:06:51, time: 0.920, data_time: 0.484, memory: 12250, decode.loss_ce: 0.0348, decode.acc_seg: 98.5731, loss: 0.0348\n",
      "2023-04-24 23:22:51,773 - mmseg - INFO - Iter [1700/2048]\tlr: 2.114e-03, eta: 0:05:19, time: 0.941, data_time: 0.496, memory: 12250, decode.loss_ce: 0.0353, decode.acc_seg: 98.5230, loss: 0.0353\n",
      "2023-04-24 23:24:28,939 - mmseg - INFO - Iter [1800/2048]\tlr: 1.586e-03, eta: 0:03:48, time: 0.972, data_time: 0.518, memory: 12250, decode.loss_ce: 0.0324, decode.acc_seg: 98.6291, loss: 0.0324\n",
      "2023-04-24 23:26:02,566 - mmseg - INFO - Iter [1900/2048]\tlr: 1.036e-03, eta: 0:02:16, time: 0.936, data_time: 0.484, memory: 12250, decode.loss_ce: 0.0337, decode.acc_seg: 98.6465, loss: 0.0337\n",
      "2023-04-24 23:27:37,038 - mmseg - INFO - Iter [2000/2048]\tlr: 4.440e-04, eta: 0:00:44, time: 0.945, data_time: 0.498, memory: 12250, decode.loss_ce: 0.0322, decode.acc_seg: 98.6366, loss: 0.0322\n",
      "2023-04-24 23:28:21,708 - mmseg - INFO - Saving checkpoint at 1 epochs\n"
     ]
    },
    {
     "name": "stdout",
     "output_type": "stream",
     "text": [
      "[>>>>>>>>>>>>>>>>>>>>>>>>>>>>>>] 100/100, 3.6 task/s, elapsed: 28s, ETA:     0s"
     ]
    },
    {
     "name": "stderr",
     "output_type": "stream",
     "text": [
      "2023-04-24 23:28:57,704 - mmseg - INFO - per class results:\n",
      "2023-04-24 23:28:57,705 - mmseg - INFO - \n",
      "+------------+-------+-------+\n",
      "|   Class    |  IoU  |  Acc  |\n",
      "+------------+-------+-------+\n",
      "| background | 97.18 | 99.13 |\n",
      "|  barcode   | 92.48 | 94.63 |\n",
      "+------------+-------+-------+\n",
      "2023-04-24 23:28:57,705 - mmseg - INFO - Summary:\n",
      "2023-04-24 23:28:57,706 - mmseg - INFO - \n",
      "+-------+-------+-------+\n",
      "|  aAcc |  mIoU |  mAcc |\n",
      "+-------+-------+-------+\n",
      "| 97.91 | 94.83 | 96.88 |\n",
      "+-------+-------+-------+\n",
      "2023-04-24 23:28:57,706 - mmseg - INFO - Iter(val) [100]\taAcc: 0.9791, mIoU: 0.9483, mAcc: 0.9688, IoU.background: 0.9718, IoU.barcode: 0.9248, Acc.background: 0.9913, Acc.barcode: 0.9463\n"
     ]
    }
   ],
   "source": [
    "train('config.py')"
   ],
   "metadata": {
    "collapsed": false
   }
  },
  {
   "cell_type": "markdown",
   "source": [
    "Применяем модель к тестовым данным:"
   ],
   "metadata": {
    "collapsed": false
   }
  },
  {
   "cell_type": "code",
   "execution_count": 28,
   "outputs": [
    {
     "name": "stderr",
     "output_type": "stream",
     "text": [
      "C:\\Users\\Aleksei\\anaconda3\\envs\\data_science_3.9\\lib\\site-packages\\mmseg\\models\\decode_heads\\decode_head.py:94: UserWarning: For binary segmentation, we suggest using`out_channels = 1` to define the outputchannels of segmentor, and use `threshold`to convert seg_logist into a predictionapplying a threshold\n",
      "  warnings.warn('For binary segmentation, we suggest using'\n",
      "C:\\Users\\Aleksei\\anaconda3\\envs\\data_science_3.9\\lib\\site-packages\\mmseg\\models\\losses\\cross_entropy_loss.py:235: UserWarning: Default ``avg_non_ignore`` is False, if you would like to ignore the certain label and average loss over non-ignore labels, which is the same with PyTorch official cross_entropy, set ``avg_non_ignore=True``.\n",
      "  warnings.warn(\n"
     ]
    },
    {
     "name": "stdout",
     "output_type": "stream",
     "text": [
      "load checkpoint from local path: workdir\\hrnet_v1\\latest.pth\n"
     ]
    },
    {
     "data": {
      "text/plain": "  0%|          | 0/100 [00:00<?, ?it/s]",
      "application/vnd.jupyter.widget-view+json": {
       "version_major": 2,
       "version_minor": 0,
       "model_id": "c6ab3243bedd46848b999ca9850b15a5"
      }
     },
     "metadata": {},
     "output_type": "display_data"
    }
   ],
   "source": [
    "infer('config.py', 'CourseOCRTask3/Test/Images', 'answer.csv')"
   ],
   "metadata": {
    "collapsed": false
   }
  },
  {
   "cell_type": "markdown",
   "source": [
    "Оценка результата:"
   ],
   "metadata": {
    "collapsed": false
   }
  },
  {
   "cell_type": "code",
   "execution_count": 29,
   "outputs": [
    {
     "name": "stdout",
     "output_type": "stream",
     "text": [
      "Checking answer (C:\\Users\\Aleksei\\course_ocr\\task3\\answer.csv) against markup(C:\\Users\\Aleksei\\course_ocr\\task3\\markup.csv)\n",
      "recognition_accuracy=0.75\n",
      "detection_result=1.0\n",
      "score=0.8375\n"
     ]
    }
   ],
   "source": [
    "!python -m course_ocr_t3.evaluate"
   ],
   "metadata": {
    "collapsed": false
   }
  }
 ],
 "metadata": {
  "kernelspec": {
   "display_name": "Python 3",
   "language": "python",
   "name": "python3"
  },
  "language_info": {
   "codemirror_mode": {
    "name": "ipython",
    "version": 2
   },
   "file_extension": ".py",
   "mimetype": "text/x-python",
   "name": "python",
   "nbconvert_exporter": "python",
   "pygments_lexer": "ipython2",
   "version": "2.7.6"
  }
 },
 "nbformat": 4,
 "nbformat_minor": 0
}
