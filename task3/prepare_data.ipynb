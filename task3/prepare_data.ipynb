{
 "cells": [
  {
   "cell_type": "code",
   "execution_count": 1,
   "metadata": {
    "collapsed": true
   },
   "outputs": [],
   "source": [
    "import os\n",
    "from typing import List\n",
    "\n",
    "import cv2\n",
    "import numpy as np\n",
    "import pandas as pd\n",
    "from tqdm.auto import tqdm\n",
    "\n",
    "DATA_PATH = r'CourseOCRTask3'\n",
    "TARGET_PATH = r'data'"
   ]
  },
  {
   "cell_type": "code",
   "execution_count": 2,
   "outputs": [],
   "source": [
    "def get_mask(coordinates: np.ndarray, image_size: tuple) -> np.ndarray:\n",
    "    mask = np.zeros(image_size, dtype=np.float32)\n",
    "    points = coordinates.reshape((1, 4, 2)).astype(np.int32)\n",
    "    cv2.fillPoly(mask, points, 1)\n",
    "    return mask\n",
    "\n",
    "def convert_data(image_dir: str, img_names: List[str], markup: pd.DataFrame, target_dir: str):\n",
    "    target_image_dir = os.path.join(target_dir, 'images')\n",
    "    target_mask_dir = os.path.join(target_dir, 'annotations')\n",
    "    os.makedirs(target_image_dir, exist_ok=True)\n",
    "    os.makedirs(target_mask_dir, exist_ok=True)\n",
    "\n",
    "    for img_name in tqdm(img_names):\n",
    "        if img_name not in markup.index:\n",
    "            continue\n",
    "        image = cv2.imread(os.path.join(image_dir, img_name), cv2.IMREAD_COLOR)\n",
    "        mask = get_mask(markup.loc[img_name, ['x1', 'y1', 'x2', 'y2', 'x3', 'y3', 'x4', 'y4']].values, image.shape[:2])\n",
    "        cv2.imwrite(os.path.join(target_image_dir, img_name), image)\n",
    "        cv2.imwrite(os.path.join(target_mask_dir, img_name), mask)\n",
    "\n",
    "def prepare_data(source_dir: str, target_dir: str) -> None:\n",
    "    image_dir = os.path.join(source_dir, 'Images')\n",
    "    img_names = os.listdir(image_dir)\n",
    "    markup = pd.read_csv(os.path.join(source_dir, 'markup.csv'), header=None, index_col=0, encoding='utf-16',\n",
    "                         names=['image_name', 'code', 'x1', 'y1',  'x2', 'y2', 'x3', 'y3', 'x4', 'y4', 'markup'])\n",
    "\n",
    "    convert_data(image_dir, img_names, markup, target_dir)"
   ],
   "metadata": {
    "collapsed": false
   }
  },
  {
   "cell_type": "code",
   "execution_count": 3,
   "outputs": [
    {
     "data": {
      "text/plain": "  0%|          | 0/8391 [00:00<?, ?it/s]",
      "application/vnd.jupyter.widget-view+json": {
       "version_major": 2,
       "version_minor": 0,
       "model_id": "109597e9966f491983a6e1358f96a052"
      }
     },
     "metadata": {},
     "output_type": "display_data"
    }
   ],
   "source": [
    "prepare_data(os.path.join(DATA_PATH, 'Train'), os.path.join(TARGET_PATH, 'Train'))"
   ],
   "metadata": {
    "collapsed": false
   }
  },
  {
   "cell_type": "code",
   "execution_count": 4,
   "outputs": [
    {
     "data": {
      "text/plain": "  0%|          | 0/100 [00:00<?, ?it/s]",
      "application/vnd.jupyter.widget-view+json": {
       "version_major": 2,
       "version_minor": 0,
       "model_id": "824a0fb708f54d48ab7f844d86c47022"
      }
     },
     "metadata": {},
     "output_type": "display_data"
    }
   ],
   "source": [
    "prepare_data(os.path.join(DATA_PATH, 'Test'), os.path.join(TARGET_PATH, 'Test'))"
   ],
   "metadata": {
    "collapsed": false
   }
  }
 ],
 "metadata": {
  "kernelspec": {
   "display_name": "Python 3",
   "language": "python",
   "name": "python3"
  },
  "language_info": {
   "codemirror_mode": {
    "name": "ipython",
    "version": 2
   },
   "file_extension": ".py",
   "mimetype": "text/x-python",
   "name": "python",
   "nbconvert_exporter": "python",
   "pygments_lexer": "ipython2",
   "version": "2.7.6"
  }
 },
 "nbformat": 4,
 "nbformat_minor": 0
}
